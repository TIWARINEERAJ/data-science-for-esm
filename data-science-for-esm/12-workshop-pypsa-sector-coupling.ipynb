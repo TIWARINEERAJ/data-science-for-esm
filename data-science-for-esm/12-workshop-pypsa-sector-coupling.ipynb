{
  "cells": [
    {
      "cell_type": "markdown",
      "metadata": {
        "id": "view-in-github",
        "colab_type": "text"
      },
      "source": [
        "<a href=\"https://colab.research.google.com/github/TIWARINEERAJ/data-science-for-esm/blob/main/data-science-for-esm/12-workshop-pypsa-sector-coupling.ipynb\" target=\"_parent\"><img src=\"https://colab.research.google.com/assets/colab-badge.svg\" alt=\"Open In Colab\"/></a>"
      ]
    },
    {
      "cell_type": "markdown",
      "metadata": {
        "id": "j7VDkl8EEzUn"
      },
      "source": [
        "# Sector-Coupling with `pypsa`"
      ]
    },
    {
      "cell_type": "markdown",
      "metadata": {
        "id": "Z-8kYTZNEzUp"
      },
      "source": [
        "<img src=\"https://github.com/fneum/data-science-for-esm/raw/main/data-science-for-esm/pypsa-logo.png\" width=\"300px\" />"
      ]
    },
    {
      "cell_type": "markdown",
      "metadata": {
        "id": "HFZrQgzEEzUq"
      },
      "source": [
        ":::{note}\n",
        "Also in this tutorial, you might want to refer to the PyPSA documentation: https://pypsa.readthedocs.io.\n",
        ":::"
      ]
    },
    {
      "cell_type": "markdown",
      "metadata": {
        "id": "hdjxoeEWEzUq"
      },
      "source": [
        ":::{note}\n",
        "If you have not yet set up Python on your computer, you can execute this tutorial in your browser via [Google Colab](https://colab.research.google.com/). Click on the rocket in the top right corner and launch \"Colab\". If that doesn't work download the `.ipynb` file and import it in [Google Colab](https://colab.research.google.com/).\n",
        "\n",
        "Then install the following packages by executing the following command in a Jupyter cell at the top of the notebook.\n",
        "\n",
        "```sh\n",
        "!pip install pypsa pandas numpy matplotlib highspy\n",
        "```\n",
        ":::"
      ]
    },
    {
      "cell_type": "code",
      "execution_count": null,
      "metadata": {
        "id": "lj1M8FPqEzUr"
      },
      "outputs": [],
      "source": [
        "import pypsa\n",
        "import pandas as pd\n",
        "import matplotlib.pyplot as plt\n",
        "\n",
        "plt.style.use(\"bmh\")"
      ]
    },
    {
      "cell_type": "markdown",
      "metadata": {
        "id": "VNa3xlJ1EzUs"
      },
      "source": [
        "## Previous Capacity Expansion Model"
      ]
    },
    {
      "cell_type": "markdown",
      "metadata": {
        "id": "1cvYPnmdEzUs"
      },
      "source": [
        "To explore sector-coupling options with PyPSA, let's load the capacity expansion model we built for the electricity system and add sector-coupling technologies and demands on top.\n",
        "\n",
        "This example has single node for Germany and 4-hourly temporal resolution for a year. It has wind and solar solar generation, an OCGT generator as well as battery and hydrogen storage to supply a fixed electricity demand.\n",
        "\n",
        "Some sector-coupling technologies have multiple ouputs (e.g. CHP plants producing heat and power). PyPSA can automatically handle links have more than one input (`bus0`)\n",
        "and/or output (i.e. `bus1`, `bus2`, `bus3`) with a given efficieny (`efficiency`, `efficiency2`, `efficiency3`)."
      ]
    },
    {
      "cell_type": "code",
      "execution_count": null,
      "metadata": {
        "id": "r5SYhw4IEzUt"
      },
      "outputs": [],
      "source": [
        "url = \"https://tubcloud.tu-berlin.de/s/pzytNg9gtkgPpXc/download/network-cem.nc\"\n",
        "n = pypsa.Network(url)"
      ]
    },
    {
      "cell_type": "code",
      "execution_count": null,
      "metadata": {
        "id": "dQBQzPUpEzUt"
      },
      "outputs": [],
      "source": [
        "n"
      ]
    },
    {
      "cell_type": "code",
      "execution_count": null,
      "metadata": {
        "id": "uWnnUAgOEzUt"
      },
      "outputs": [],
      "source": [
        "n.buses.index"
      ]
    },
    {
      "cell_type": "code",
      "execution_count": null,
      "metadata": {
        "id": "i_9NdcMcEzUt"
      },
      "outputs": [],
      "source": [
        "n.generators.index"
      ]
    },
    {
      "cell_type": "code",
      "execution_count": null,
      "metadata": {
        "id": "foO6EfNqEzUu"
      },
      "outputs": [],
      "source": [
        "n.storage_units.index"
      ]
    },
    {
      "cell_type": "markdown",
      "metadata": {
        "id": "xz5vX_LYEzUu"
      },
      "source": [
        "## Hydrogen Production"
      ]
    },
    {
      "cell_type": "markdown",
      "metadata": {
        "id": "QnSShN3gEzUu"
      },
      "source": [
        "The following example shows how to model the components of hydrogen storage separately, i.e. electrolysis, fuel cell and storage.\n",
        "\n",
        "First, let's remove the simplified hydrogen storage representation:"
      ]
    },
    {
      "cell_type": "code",
      "execution_count": null,
      "metadata": {
        "id": "S8jjacgsEzUu"
      },
      "outputs": [],
      "source": [
        "n.remove(\"StorageUnit\", \"hydrogen storage underground\")"
      ]
    },
    {
      "cell_type": "markdown",
      "metadata": {
        "id": "zHR6RZIJEzUu"
      },
      "source": [
        "Add a separate `Bus` for the hydrogen energy carrier:"
      ]
    },
    {
      "cell_type": "code",
      "execution_count": null,
      "metadata": {
        "id": "mj6oVLGwEzUv"
      },
      "outputs": [],
      "source": [
        "n.add(\"Bus\", \"hydrogen\")"
      ]
    },
    {
      "cell_type": "markdown",
      "metadata": {
        "id": "quRpaOlREzUv"
      },
      "source": [
        "Add a `Link` for the hydrogen electrolysis:"
      ]
    },
    {
      "cell_type": "code",
      "execution_count": null,
      "metadata": {
        "id": "auqSasxFEzUv"
      },
      "outputs": [],
      "source": [
        "n.add(\n",
        "    \"Link\",\n",
        "    \"electrolysis\",\n",
        "    bus0=\"electricity\",\n",
        "    bus1=\"hydrogen\",\n",
        "    carrier=\"electrolysis\",\n",
        "    p_nom_extendable=True,\n",
        "    efficiency=0.7,\n",
        "    capital_cost=50e3,  # €/MW/a\n",
        ")"
      ]
    },
    {
      "cell_type": "markdown",
      "metadata": {
        "id": "hr4BwxrLEzUv"
      },
      "source": [
        "Add a `Link` for the fuel cell which reconverts hydrogen to electricity:"
      ]
    },
    {
      "cell_type": "code",
      "execution_count": null,
      "metadata": {
        "id": "l0Dk-bmZEzUw"
      },
      "outputs": [],
      "source": [
        "n.add(\n",
        "    \"Link\",\n",
        "    \"fuel cell\",\n",
        "    bus0=\"hydrogen\",\n",
        "    bus1=\"electricity\",\n",
        "    carrier=\"fuel cell\",\n",
        "    p_nom_extendable=True,\n",
        "    efficiency=0.5,\n",
        "    capital_cost=120e3,  # €/MW/a\n",
        ")"
      ]
    },
    {
      "cell_type": "markdown",
      "metadata": {
        "id": "gfmaaiFREzUw"
      },
      "source": [
        "Add a `Store` for the hydrogen storage:"
      ]
    },
    {
      "cell_type": "code",
      "execution_count": null,
      "metadata": {
        "id": "s2xBIipWEzUw"
      },
      "outputs": [],
      "source": [
        "n.add(\n",
        "    \"Store\",\n",
        "    \"hydrogen storage\",\n",
        "    bus=\"hydrogen\",\n",
        "    carrier=\"hydrogen storage\",\n",
        "    capital_cost=140,  # €/MWh/a\n",
        "    e_nom_extendable=True,\n",
        "    e_cyclic=True,  # cyclic state of charge\n",
        ")"
      ]
    },
    {
      "cell_type": "markdown",
      "metadata": {
        "id": "9pggfl3IEzUw"
      },
      "source": [
        "We can also add a hydrogen demand to the hydrogen bus.\n",
        "\n",
        "In the example below, we add a constant hydrogen demand the size of the electricity demand."
      ]
    },
    {
      "cell_type": "code",
      "execution_count": null,
      "metadata": {
        "id": "L5DLl2PhEzUx"
      },
      "outputs": [],
      "source": [
        "p_set = n.loads_t.p_set[\"demand\"].mean()"
      ]
    },
    {
      "cell_type": "code",
      "execution_count": null,
      "metadata": {
        "id": "vlN0utT7EzUx"
      },
      "outputs": [],
      "source": [
        "p_set"
      ]
    },
    {
      "cell_type": "code",
      "execution_count": null,
      "metadata": {
        "id": "7pEsETykEzUx"
      },
      "outputs": [],
      "source": [
        "n.add(\"Load\", \"hydrogen demand\", bus=\"hydrogen\", carrier=\"hydrogen\", p_set=p_set)  # MW"
      ]
    },
    {
      "cell_type": "markdown",
      "metadata": {
        "id": "YLkQk4-xEzUx"
      },
      "source": [
        "## Heat Demand"
      ]
    },
    {
      "cell_type": "markdown",
      "metadata": {
        "id": "9okxKSTmEzUx"
      },
      "source": [
        "For the heat demand, we create another bus and connect a load with the heat demand time series to it:"
      ]
    },
    {
      "cell_type": "code",
      "execution_count": null,
      "metadata": {
        "id": "gDNuZprQEzUx"
      },
      "outputs": [],
      "source": [
        "n.add(\"Bus\", \"heat\")"
      ]
    },
    {
      "cell_type": "code",
      "execution_count": null,
      "metadata": {
        "id": "KtXSG9BAEzUy"
      },
      "outputs": [],
      "source": [
        "url = \"https://tubcloud.tu-berlin.de/s/mSkHERH8fJCKNXx/download/heat-load-example.csv\"\n",
        "p_set = pd.read_csv(url, index_col=0, parse_dates=True).squeeze()"
      ]
    },
    {
      "cell_type": "code",
      "execution_count": null,
      "metadata": {
        "id": "UNpPBiXYEzUy"
      },
      "outputs": [],
      "source": [
        "p_set.head()"
      ]
    },
    {
      "cell_type": "code",
      "execution_count": null,
      "metadata": {
        "id": "G00dqGQOEzUy"
      },
      "outputs": [],
      "source": [
        "n.add(\"Load\", \"heat demand\", carrier=\"heat\", bus=\"heat\", p_set=p_set)"
      ]
    },
    {
      "cell_type": "code",
      "execution_count": null,
      "metadata": {
        "id": "-bM0tUAwEzUy"
      },
      "outputs": [],
      "source": [
        "n.loads_t.p_set.div(1e3).plot(figsize=(12, 4), ylabel=\"GW\")"
      ]
    },
    {
      "cell_type": "markdown",
      "metadata": {
        "id": "RfZesz5vEzUy"
      },
      "source": [
        "## Heat pumps"
      ]
    },
    {
      "cell_type": "markdown",
      "metadata": {
        "id": "g9bxbvTwEzUz"
      },
      "source": [
        "To model heat pumps, first we have to calculate the **coefficient of performance (COP)** profile based on the temperature profile of the heat source.\n",
        "\n",
        "In the example below, we calculate the COP for an air-sourced heat pump with a sink temperature of 55° C and a population-weighted ambient temperature profile for Germany.\n",
        "\n",
        "The heat pump performance is given by the following function:\n",
        "\n",
        "$$\n",
        "COP(\\Delta T) = 6.81 - 0.121 \\Delta T + 0.00063^\\Delta T^2\n",
        "$$\n",
        "where $\\Delta T = T_{sink} - T_{source}$."
      ]
    },
    {
      "cell_type": "code",
      "execution_count": null,
      "metadata": {
        "id": "kV9w2yPNEzUz"
      },
      "outputs": [],
      "source": [
        "def cop(t_source, t_sink=55):\n",
        "    delta_t = t_sink - t_source\n",
        "    return 6.81 - 0.121 * delta_t + 0.000630 * delta_t**2"
      ]
    },
    {
      "cell_type": "code",
      "execution_count": null,
      "metadata": {
        "id": "9B5OwkAaEzUz"
      },
      "outputs": [],
      "source": [
        "url = \"https://tubcloud.tu-berlin.de/s/S4jRAQMP5Te96jW/download/ninja_weather_country_DE_merra-2_population_weighted.csv\"\n",
        "temp = pd.read_csv(url, skiprows=2, index_col=0, parse_dates=True).loc[\n",
        "    \"2015\", \"temperature\"\n",
        "][::4]"
      ]
    },
    {
      "cell_type": "code",
      "execution_count": null,
      "metadata": {
        "id": "kpign-38EzUz"
      },
      "outputs": [],
      "source": [
        "cop(temp).plot(figsize=(10, 2), ylabel=\"COP\");"
      ]
    },
    {
      "cell_type": "code",
      "execution_count": null,
      "metadata": {
        "id": "H9_VEwsMEzU0"
      },
      "outputs": [],
      "source": [
        "plt.scatter(temp, cop(temp))\n",
        "plt.xlabel(\"temperature [°C]\")\n",
        "plt.ylabel(\"COP [-]\")"
      ]
    },
    {
      "cell_type": "markdown",
      "metadata": {
        "id": "4cjL9pdyEzU0"
      },
      "source": [
        "Once we have calculated the heat pump coefficient of performance, we can add the heat pump to the network as a `Link`. We use the parameter `efficiency` to incorporate the COP."
      ]
    },
    {
      "cell_type": "code",
      "execution_count": null,
      "metadata": {
        "id": "bBD3J3HzEzU0"
      },
      "outputs": [],
      "source": [
        "n.add(\n",
        "    \"Link\",\n",
        "    \"heat pump\",\n",
        "    carrier=\"heat pump\",\n",
        "    bus0=\"electricity\",\n",
        "    bus1=\"heat\",\n",
        "    efficiency=cop(temp),\n",
        "    p_nom_extendable=True,\n",
        "    capital_cost=3e5,  # €/MWe/a\n",
        ")"
      ]
    },
    {
      "cell_type": "markdown",
      "metadata": {
        "id": "6GUmhtssEzU0"
      },
      "source": [
        "Let's also add a resistive heater as backup technology:"
      ]
    },
    {
      "cell_type": "code",
      "execution_count": null,
      "metadata": {
        "id": "UTy3Iy7PEzU1"
      },
      "outputs": [],
      "source": [
        "n.add(\n",
        "    \"Link\",\n",
        "    \"resistive heater\",\n",
        "    carrier=\"resistive heater\",\n",
        "    bus0=\"electricity\",\n",
        "    bus1=\"heat\",\n",
        "    efficiency=0.9,\n",
        "    capital_cost=1e4,  # €/MWe/a\n",
        "    p_nom_extendable=True,\n",
        ")"
      ]
    },
    {
      "cell_type": "markdown",
      "metadata": {
        "id": "7F2dQhNSEzU1"
      },
      "source": [
        "## Combined Heat-and-Power (CHP)"
      ]
    },
    {
      "cell_type": "markdown",
      "metadata": {
        "id": "cNE9eRv2EzU1"
      },
      "source": [
        "In the following, we are going to add gas-fired combined heat-and-power plants (CHPs). Today, these would use fossil gas, but in the example below we assume green methane with relatively high marginal costs. Since we have no other net emission technology, we can remove the CO$_2$ limit."
      ]
    },
    {
      "cell_type": "code",
      "execution_count": null,
      "metadata": {
        "id": "ILFANm2AEzU1"
      },
      "outputs": [],
      "source": [
        "n.remove(\"GlobalConstraint\", \"CO2Limit\")"
      ]
    },
    {
      "cell_type": "markdown",
      "metadata": {
        "id": "w6EXDXfJEzU1"
      },
      "source": [
        "Then, we explicitly represent the energy carrier gas:"
      ]
    },
    {
      "cell_type": "code",
      "execution_count": null,
      "metadata": {
        "id": "5CZrLj3uEzU1"
      },
      "outputs": [],
      "source": [
        "n.add(\"Bus\", \"gas\", carrier=\"gas\")"
      ]
    },
    {
      "cell_type": "markdown",
      "metadata": {
        "id": "QrV2qwh7EzU1"
      },
      "source": [
        "And add a `Store` of gas, which can be depleted (up to 100 TWh) with fuel costs of 150 €/MWh."
      ]
    },
    {
      "cell_type": "code",
      "execution_count": null,
      "metadata": {
        "id": "6o8oA3SAEzU2"
      },
      "outputs": [],
      "source": [
        "n.add(\n",
        "    \"Store\",\n",
        "    \"gas storage\",\n",
        "    carrier=\"gas storage\",\n",
        "    e_initial=100e6,  # MWh\n",
        "    e_nom=100e6,  # MWh\n",
        "    bus=\"gas\",\n",
        "    marginal_cost=150,  # €/MWh_th\n",
        ")"
      ]
    },
    {
      "cell_type": "markdown",
      "metadata": {
        "id": "3n7risRWEzU2"
      },
      "source": [
        "When we do this, we have to model the OCGT power plant as link which converts gas to electricity, not as generator."
      ]
    },
    {
      "cell_type": "code",
      "execution_count": null,
      "metadata": {
        "id": "sIJESwxUEzU2"
      },
      "outputs": [],
      "source": [
        "n.remove(\"Generator\", \"OCGT\")"
      ]
    },
    {
      "cell_type": "code",
      "execution_count": null,
      "metadata": {
        "id": "1HeMXOBwEzU2"
      },
      "outputs": [],
      "source": [
        "n.add(\n",
        "    \"Link\",\n",
        "    \"OCGT\",\n",
        "    bus0=\"gas\",\n",
        "    bus1=\"electricity\",\n",
        "    carrier=\"OCGT\",\n",
        "    p_nom_extendable=True,\n",
        "    capital_cost=20000,  # €/MW/a\n",
        "    efficiency=0.4,\n",
        ")"
      ]
    },
    {
      "cell_type": "markdown",
      "metadata": {
        "id": "uJoxdRlXEzU2"
      },
      "source": [
        "Next, we are going to add a combined heat-and-power (CHP) plant with fixed heat-power ratio (i.e. backpressure operation). If you want to model flexible heat-power ratios, have a look at this example: https://pypsa.readthedocs.io/en/latest/examples/power-to-gas-boiler-chp.html"
      ]
    },
    {
      "cell_type": "code",
      "execution_count": null,
      "metadata": {
        "id": "SBIS2f4xEzU2"
      },
      "outputs": [],
      "source": [
        "n.add(\n",
        "    \"Link\",\n",
        "    \"CHP\",\n",
        "    bus0=\"gas\",\n",
        "    bus1=\"electricity\",\n",
        "    bus2=\"heat\",\n",
        "    carrier=\"CHP\",\n",
        "    p_nom_extendable=True,\n",
        "    capital_cost=40000,\n",
        "    efficiency=0.4,\n",
        "    efficiency2=0.4,\n",
        ")"
      ]
    },
    {
      "cell_type": "markdown",
      "metadata": {
        "id": "tjWbsr1WEzU3"
      },
      "source": [
        "## Electric Vehicles"
      ]
    },
    {
      "cell_type": "markdown",
      "metadata": {
        "id": "l2GZnjk0EzU3"
      },
      "source": [
        "To model electric vehicles, we first create another bus for the electric vehicles."
      ]
    },
    {
      "cell_type": "code",
      "execution_count": null,
      "metadata": {
        "id": "Gnw8IuysEzU3"
      },
      "outputs": [],
      "source": [
        "n.add(\"Bus\", \"EV\", carrier=\"EV\")"
      ]
    },
    {
      "cell_type": "markdown",
      "metadata": {
        "id": "wl-k-QCzEzU3"
      },
      "source": [
        "Then, we can attach the electricity consumption of electric vehicles to this bus:"
      ]
    },
    {
      "cell_type": "code",
      "execution_count": null,
      "metadata": {
        "id": "5ZNfalIJEzU3"
      },
      "outputs": [],
      "source": [
        "url = \"https://tubcloud.tu-berlin.de/s/9r5bMSbzzQiqG7H/download/electric-vehicle-profile-example.csv\"\n",
        "p_set = pd.read_csv(url, index_col=0, parse_dates=True).squeeze()"
      ]
    },
    {
      "cell_type": "code",
      "execution_count": null,
      "metadata": {
        "id": "f0I9RwgEEzU3"
      },
      "outputs": [],
      "source": [
        "p_set.loc[\"2015-01-01\"].div(1e3).plot(figsize=(4, 4), ylabel=\"GW\")"
      ]
    },
    {
      "cell_type": "code",
      "execution_count": null,
      "metadata": {
        "id": "b_BUYyI3EzU3"
      },
      "outputs": [],
      "source": [
        "n.add(\"Load\", \"EV demand\", bus=\"EV\", carrier=\"EV demand\", p_set=p_set)"
      ]
    },
    {
      "cell_type": "markdown",
      "metadata": {
        "id": "jBKDoU3fEzU3"
      },
      "source": [
        "Let's have a quick look at how the heat, electricity, constant hydrogen and electric vehicle demands relate to each other:"
      ]
    },
    {
      "cell_type": "code",
      "execution_count": null,
      "metadata": {
        "id": "IzMGNyOmEzU4"
      },
      "outputs": [],
      "source": [
        "n.loads_t.p_set.div(1e3).plot(figsize=(10, 3), ylabel=\"GW\")\n",
        "plt.axhline(\n",
        "    n.loads.loc[\"hydrogen demand\", \"p_set\"] / 1e3, label=\"hydrogen demand\", color=\"m\"\n",
        ")\n",
        "plt.legend()"
      ]
    },
    {
      "cell_type": "markdown",
      "metadata": {
        "id": "b_-E7_MsEzU4"
      },
      "source": [
        "The electric vehicles can only be charged when they are plugged-in. Below we load an availability profile\n",
        "telling us what share of electric vehicles is plugged-in **at home** -- we only assume home charging in this example."
      ]
    },
    {
      "cell_type": "code",
      "execution_count": null,
      "metadata": {
        "id": "jmv-VrfBEzU4"
      },
      "outputs": [],
      "source": [
        "url = \"https://tubcloud.tu-berlin.de/s/E3PBWPfYaWwCq7a/download/electric-vehicle-availability-example.csv\"\n",
        "availability_profile = pd.read_csv(url, index_col=0, parse_dates=True).squeeze()"
      ]
    },
    {
      "cell_type": "code",
      "execution_count": null,
      "metadata": {
        "id": "zAlf51BSEzU4"
      },
      "outputs": [],
      "source": [
        "availability_profile.loc[\"2015-01-01\"].plot(ylim=(0, 1))"
      ]
    },
    {
      "cell_type": "markdown",
      "metadata": {
        "id": "ie8uj3yNEzU4"
      },
      "source": [
        "Then, we can add a link for the electric vehicle charger using assumption about the number of EVs and their charging rates."
      ]
    },
    {
      "cell_type": "code",
      "execution_count": null,
      "metadata": {
        "id": "cvR1RQGIEzU4"
      },
      "outputs": [],
      "source": [
        "number_cars = 40e6  #  number of EV cars\n",
        "bev_charger_rate = 0.011  # 3-phase EV charger with 11 kW\n",
        "p_nom = number_cars * bev_charger_rate"
      ]
    },
    {
      "cell_type": "code",
      "execution_count": null,
      "metadata": {
        "id": "evhj_7bFEzU5"
      },
      "outputs": [],
      "source": [
        "n.add(\n",
        "    \"Link\",\n",
        "    \"EV charger\",\n",
        "    bus0=\"electricity\",\n",
        "    bus1=\"EV\",\n",
        "    p_nom=p_nom,\n",
        "    carrier=\"EV charger\",\n",
        "    p_max_pu=availability_profile,\n",
        "    efficiency=0.9,\n",
        ")"
      ]
    },
    {
      "cell_type": "markdown",
      "metadata": {
        "id": "uMjT1HSsEzU5"
      },
      "source": [
        "We can also allow vehicle-to-grid operation (i.e. electric vehicles inject power into the grid):"
      ]
    },
    {
      "cell_type": "code",
      "execution_count": null,
      "metadata": {
        "id": "1fqrwHNAEzU5"
      },
      "outputs": [],
      "source": [
        "n.add(\n",
        "    \"Link\",\n",
        "    \"V2G\",\n",
        "    bus0=\"EV\",\n",
        "    bus1=\"electricity\",\n",
        "    p_nom=p_nom,\n",
        "    carrier=\"V2G\",\n",
        "    p_max_pu=availability_profile,\n",
        "    efficiency=0.9,\n",
        ")"
      ]
    },
    {
      "cell_type": "markdown",
      "metadata": {
        "id": "Xxa2Hv26EzU5"
      },
      "source": [
        "The demand-side management potential we model as a store. This is not unlike a battery storage, but we impose additional constraints on when the store needs to be charged to a certain level (e.g. 75% full every morning)."
      ]
    },
    {
      "cell_type": "code",
      "execution_count": null,
      "metadata": {
        "id": "-nBx1UInEzU5"
      },
      "outputs": [],
      "source": [
        "bev_energy = 0.05  # average battery size of EV in MWh\n",
        "bev_dsm_participants = 0.5  # share of cars that do smart charging\n",
        "\n",
        "e_nom = number_cars * bev_energy * bev_dsm_participants"
      ]
    },
    {
      "cell_type": "code",
      "execution_count": null,
      "metadata": {
        "id": "NmAGn70LEzU5"
      },
      "outputs": [],
      "source": [
        "url = \"https://tubcloud.tu-berlin.de/s/K62yACBRTrxLTia/download/dsm-profile-example.csv\"\n",
        "dsm_profile = pd.read_csv(url, index_col=0, parse_dates=True).squeeze()"
      ]
    },
    {
      "cell_type": "code",
      "execution_count": null,
      "metadata": {
        "id": "ufJ6VWnqEzU5"
      },
      "outputs": [],
      "source": [
        "dsm_profile.loc[\"2015-01-01\"].plot(figsize=(5, 2), ylim=(0, 1))"
      ]
    },
    {
      "cell_type": "code",
      "execution_count": null,
      "metadata": {
        "id": "9yEGNHirEzU6"
      },
      "outputs": [],
      "source": [
        "n.add(\n",
        "    \"Store\",\n",
        "    \"EV DSM\",\n",
        "    bus=\"EV\",\n",
        "    carrier=\"EV battery\",\n",
        "    e_cyclic=True,  # state of charge at beginning = state of charge at the end\n",
        "    e_nom=e_nom,\n",
        "    e_min_pu=dsm_profile,\n",
        ")"
      ]
    },
    {
      "cell_type": "markdown",
      "metadata": {
        "id": "SufACZ41EzU6"
      },
      "source": [
        "Then, we can solve the fully sector-coupled model altogether including electricity, passenger transport, hydrogen and heating."
      ]
    },
    {
      "cell_type": "code",
      "execution_count": null,
      "metadata": {
        "tags": [
          "hide-output"
        ],
        "id": "uMwrxZJ9EzU6"
      },
      "outputs": [],
      "source": [
        "n.optimize(solver_name=\"highs\")"
      ]
    },
    {
      "cell_type": "code",
      "execution_count": null,
      "metadata": {
        "id": "6XE8KifWEzU6"
      },
      "outputs": [],
      "source": [
        "n.statistics()"
      ]
    },
    {
      "cell_type": "code",
      "execution_count": null,
      "metadata": {
        "id": "GeA_yIv6EzU6"
      },
      "outputs": [],
      "source": [
        "n.statistics()[\"Capital Expenditure\"].div(1e9).sort_values().dropna().plot.bar(\n",
        "    ylabel=\"bn€/a\", cmap=\"tab20c\", figsize=(7, 3)\n",
        ")"
      ]
    },
    {
      "cell_type": "markdown",
      "metadata": {
        "id": "zEWMEndyEzU6"
      },
      "source": [
        "## Exercises"
      ]
    },
    {
      "cell_type": "markdown",
      "metadata": {
        "id": "8-35KA10EzU6"
      },
      "source": [
        "Here are a few things you can do to explore this system:\n",
        "\n",
        "- exclude one of transport sector, heating sector, hydrogen demand and investigate what impact it has on system operation and investments\n",
        "- vary the charging rates and availability profiles of electric vehicles"
      ]
    },
    {
      "cell_type": "code",
      "execution_count": null,
      "metadata": {
        "id": "VDtueJm3EzU7"
      },
      "outputs": [],
      "source": []
    }
  ],
  "metadata": {
    "kernelspec": {
      "display_name": "",
      "language": "python",
      "name": ""
    },
    "language_info": {
      "codemirror_mode": {
        "name": "ipython",
        "version": 3
      },
      "file_extension": ".py",
      "mimetype": "text/x-python",
      "name": "python",
      "nbconvert_exporter": "python",
      "pygments_lexer": "ipython3",
      "version": "3.12.7"
    },
    "colab": {
      "provenance": [],
      "include_colab_link": true
    }
  },
  "nbformat": 4,
  "nbformat_minor": 0
}